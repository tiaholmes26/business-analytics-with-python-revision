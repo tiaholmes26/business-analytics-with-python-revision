{
  "nbformat": 4,
  "nbformat_minor": 0,
  "metadata": {
    "colab": {
      "provenance": []
    },
    "kernelspec": {
      "name": "python3",
      "display_name": "Python 3"
    },
    "language_info": {
      "name": "python"
    }
  },
  "cells": [
    {
      "cell_type": "code",
      "execution_count": 4,
      "metadata": {
        "id": "WgMMLytsZbAr"
      },
      "outputs": [],
      "source": [
        "def m(x):\n",
        "  y=sum(x)\n",
        "  print(y)\n"
      ]
    },
    {
      "cell_type": "code",
      "source": [
        "x=[1,2,3,4,5,6,7,8,9,10]\n",
        "m(x)"
      ],
      "metadata": {
        "colab": {
          "base_uri": "https://localhost:8080/"
        },
        "id": "OVHQWwXVbgSR",
        "outputId": "7767aa84-f750-42e9-846f-57f577e0b4c2"
      },
      "execution_count": 5,
      "outputs": [
        {
          "output_type": "stream",
          "name": "stdout",
          "text": [
            "55\n"
          ]
        }
      ]
    },
    {
      "cell_type": "code",
      "source": [
        "def abc():\n",
        "  x=[2,4,6,8,10,11]\n",
        "  for num in x:\n",
        "   if num % 2==1:\n",
        "     print(\"odd numbers\",num)\n",
        "  for num in x:\n",
        "   if num % 2==0:\n",
        "    print(\"even numbers\",num)"
      ],
      "metadata": {
        "id": "NZPPARsFboPV"
      },
      "execution_count": 16,
      "outputs": []
    },
    {
      "cell_type": "code",
      "source": [
        "abc()"
      ],
      "metadata": {
        "colab": {
          "base_uri": "https://localhost:8080/"
        },
        "id": "bvfT5SDcfkDG",
        "outputId": "818821e0-ef9a-48a5-c106-2f4a508d134b"
      },
      "execution_count": 17,
      "outputs": [
        {
          "output_type": "stream",
          "name": "stdout",
          "text": [
            "odd numbers 11\n",
            "even numbers 2\n",
            "even numbers 4\n",
            "even numbers 6\n",
            "even numbers 8\n",
            "even numbers 10\n"
          ]
        }
      ]
    },
    {
      "cell_type": "code",
      "source": [
        "x=(\"Python is a high-level, general-purpose programming language\")\n",
        "y=\" \"\n",
        "vowels=[\"a\",\"e\",\"i\",\"o\",\"u\"]\n",
        "for i in range(len(x)):\n",
        "  if x[i] not in vowels:\n",
        "    y=y+x[i]\n",
        "print(y)\n"
      ],
      "metadata": {
        "colab": {
          "base_uri": "https://localhost:8080/"
        },
        "id": "Jdh6PjccfrpU",
        "outputId": "28737a8a-5d21-41df-a277-2b258c4f10d3"
      },
      "execution_count": 33,
      "outputs": [
        {
          "output_type": "stream",
          "name": "stdout",
          "text": [
            " Pythn s  hgh-lvl, gnrl-prps prgrmmng lngg\n"
          ]
        }
      ]
    },
    {
      "cell_type": "code",
      "source": [],
      "metadata": {
        "id": "6KyDPgAwoKuN"
      },
      "execution_count": null,
      "outputs": []
    }
  ]
}