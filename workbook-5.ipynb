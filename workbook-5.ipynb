{
  "nbformat": 4,
  "nbformat_minor": 0,
  "metadata": {
    "colab": {
      "provenance": []
    },
    "kernelspec": {
      "name": "python3",
      "display_name": "Python 3"
    },
    "language_info": {
      "name": "python"
    }
  },
  "cells": [
    {
      "cell_type": "code",
      "execution_count": 1,
      "metadata": {
        "id": "vzIEYXViN8wU"
      },
      "outputs": [],
      "source": [
        "def tia():\n",
        "  print(\"India is my country\")"
      ]
    },
    {
      "cell_type": "code",
      "source": [
        "tia()"
      ],
      "metadata": {
        "colab": {
          "base_uri": "https://localhost:8080/"
        },
        "id": "tJHoQDKkP7SN",
        "outputId": "b4bb618a-6a30-4fb6-efa8-8b778b8eff45"
      },
      "execution_count": 2,
      "outputs": [
        {
          "output_type": "stream",
          "name": "stdout",
          "text": [
            "India is my country\n"
          ]
        }
      ]
    },
    {
      "cell_type": "code",
      "source": [
        "def tia():\n",
        "  print(\"your roll number is\",10)"
      ],
      "metadata": {
        "id": "AuUoWjOzQHQl"
      },
      "execution_count": 4,
      "outputs": []
    },
    {
      "cell_type": "code",
      "source": [
        "tia()"
      ],
      "metadata": {
        "colab": {
          "base_uri": "https://localhost:8080/"
        },
        "id": "PNcTfUzxRLm2",
        "outputId": "61043a40-225c-4dd9-b8cd-5ea61e1a288a"
      },
      "execution_count": 6,
      "outputs": [
        {
          "output_type": "stream",
          "name": "stdout",
          "text": [
            "your roll number is 10\n"
          ]
        }
      ]
    },
    {
      "cell_type": "code",
      "source": [
        "def tia(x):\n",
        "  print(\"your roll number is\",x)"
      ],
      "metadata": {
        "id": "Iu3TDe6JRT2S"
      },
      "execution_count": 7,
      "outputs": []
    },
    {
      "cell_type": "code",
      "source": [
        "x=int(input(\"eneter your roll nuumber\"))\n",
        "tia(x)"
      ],
      "metadata": {
        "colab": {
          "base_uri": "https://localhost:8080/"
        },
        "id": "2nz7o2QURePy",
        "outputId": "f9b9398a-3107-4325-d96c-bdc32035e30a"
      },
      "execution_count": 8,
      "outputs": [
        {
          "output_type": "stream",
          "name": "stdout",
          "text": [
            "eneter your roll nuumber36\n",
            "your roll number is 36\n"
          ]
        }
      ]
    },
    {
      "cell_type": "code",
      "source": [
        "def tia(x,y,z):\n",
        "  print(\"your roll no is:\",x)\n",
        "  print(\"your mail id:\",y)\n",
        "  print(\"your place:\",z)\n",
        "x=int(input(\"enter your roll no:\"))\n",
        "y=input(\"enter your mail id:\")\n",
        "z=input(\"enter your place;\")\n",
        "tia(x,y,z)  "
      ],
      "metadata": {
        "colab": {
          "base_uri": "https://localhost:8080/"
        },
        "id": "TpXMmesDRmP-",
        "outputId": "5cdc1043-df85-473d-da36-07c1879cf2c3"
      },
      "execution_count": 16,
      "outputs": [
        {
          "output_type": "stream",
          "name": "stdout",
          "text": [
            "enter your roll no:36\n",
            "enter your mail id:m1ca252@rajagiri.edu\n",
            "enter your place;edapally\n",
            "your roll no is: 36\n",
            "your mail id: m1ca252@rajagiri.edu\n",
            "your place: edapally\n"
          ]
        }
      ]
    },
    {
      "cell_type": "code",
      "source": [
        "a=input(\"enter your full name:\")\n",
        "def firstname(a):\n",
        " print(a[0:3])\n",
        "def secondname(a):\n",
        "  print(a[4:11])"
      ],
      "metadata": {
        "colab": {
          "base_uri": "https://localhost:8080/"
        },
        "id": "wx_PaFluUhJ0",
        "outputId": "b12c6cd5-128f-48d9-a19e-18157e94771d"
      },
      "execution_count": 25,
      "outputs": [
        {
          "name": "stdout",
          "output_type": "stream",
          "text": [
            "enter your full name:tia holmes\n"
          ]
        }
      ]
    },
    {
      "cell_type": "code",
      "source": [
        "firstname(a)\n",
        "secondname(a)"
      ],
      "metadata": {
        "colab": {
          "base_uri": "https://localhost:8080/"
        },
        "id": "03i6RK9Ga796",
        "outputId": "62b64d73-563e-4a02-9b49-eca4e99fc6b5"
      },
      "execution_count": 26,
      "outputs": [
        {
          "output_type": "stream",
          "name": "stdout",
          "text": [
            "tia\n",
            "holmes\n"
          ]
        }
      ]
    }
  ]
}