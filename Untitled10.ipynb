{
  "nbformat": 4,
  "nbformat_minor": 0,
  "metadata": {
    "colab": {
      "provenance": []
    },
    "kernelspec": {
      "name": "python3",
      "display_name": "Python 3"
    },
    "language_info": {
      "name": "python"
    }
  },
  "cells": [
    {
      "cell_type": "code",
      "execution_count": 2,
      "metadata": {
        "colab": {
          "base_uri": "https://localhost:8080/"
        },
        "id": "aZOTrmSAtzEE",
        "outputId": "f1f4c003-a68e-4520-8671-5b7c7de51f23"
      },
      "outputs": [
        {
          "name": "stdout",
          "output_type": "stream",
          "text": [
            "enter your nameTIA HOLMES\n"
          ]
        }
      ],
      "source": [
        "x=input(\"enter your name\")"
      ]
    },
    {
      "cell_type": "code",
      "source": [
        "len(x)"
      ],
      "metadata": {
        "colab": {
          "base_uri": "https://localhost:8080/"
        },
        "id": "9HKJ0LGtumEc",
        "outputId": "03d3b551-1bbb-44c1-80df-bd9bb72905bf"
      },
      "execution_count": 5,
      "outputs": [
        {
          "output_type": "execute_result",
          "data": {
            "text/plain": [
              "10"
            ]
          },
          "metadata": {},
          "execution_count": 5
        }
      ]
    },
    {
      "cell_type": "code",
      "source": [
        "x=[1,\"tia holmes\",\"26-03-2003\",19,\"las vegas\"]"
      ],
      "metadata": {
        "id": "MfiUgjju1hip"
      },
      "execution_count": 25,
      "outputs": []
    },
    {
      "cell_type": "markdown",
      "source": [],
      "metadata": {
        "id": "qoaj25YF1cCd"
      }
    },
    {
      "cell_type": "code",
      "source": [
        "print(x)"
      ],
      "metadata": {
        "colab": {
          "base_uri": "https://localhost:8080/"
        },
        "id": "L93kNeROwr3t",
        "outputId": "a4b2c28f-0fb0-4797-97e8-aeab9a17abc9"
      },
      "execution_count": 28,
      "outputs": [
        {
          "output_type": "stream",
          "name": "stdout",
          "text": [
            "[1, 'tia holmes', '26-03-2003', 19, 'las vegas']\n"
          ]
        }
      ]
    },
    {
      "cell_type": "code",
      "source": [
        "x[0]"
      ],
      "metadata": {
        "colab": {
          "base_uri": "https://localhost:8080/"
        },
        "id": "MssK6pAOwyDI",
        "outputId": "afe75526-10d3-4953-a1b1-37b2685dd3b5"
      },
      "execution_count": 29,
      "outputs": [
        {
          "output_type": "execute_result",
          "data": {
            "text/plain": [
              "1"
            ]
          },
          "metadata": {},
          "execution_count": 29
        }
      ]
    },
    {
      "cell_type": "code",
      "source": [
        "x[-1]"
      ],
      "metadata": {
        "colab": {
          "base_uri": "https://localhost:8080/",
          "height": 35
        },
        "id": "GtrtVIyAw6IJ",
        "outputId": "9c67b5a0-45ad-4a29-e3b0-79a59cf820e6"
      },
      "execution_count": 30,
      "outputs": [
        {
          "output_type": "execute_result",
          "data": {
            "text/plain": [
              "'las vegas'"
            ],
            "application/vnd.google.colaboratory.intrinsic+json": {
              "type": "string"
            }
          },
          "metadata": {},
          "execution_count": 30
        }
      ]
    },
    {
      "cell_type": "code",
      "source": [
        "z=[10,15,20,25,30,35,40]"
      ],
      "metadata": {
        "id": "p1mQmLaQxddG"
      },
      "execution_count": 14,
      "outputs": []
    },
    {
      "cell_type": "code",
      "source": [
        "z[0:5]"
      ],
      "metadata": {
        "colab": {
          "base_uri": "https://localhost:8080/"
        },
        "id": "FJZvo7eyyviu",
        "outputId": "d3d9e2a9-7003-43f1-f7e9-b8546d10c164"
      },
      "execution_count": 16,
      "outputs": [
        {
          "output_type": "execute_result",
          "data": {
            "text/plain": [
              "[10, 15, 20, 25, 30]"
            ]
          },
          "metadata": {},
          "execution_count": 16
        }
      ]
    },
    {
      "cell_type": "code",
      "source": [
        "z[-3:]"
      ],
      "metadata": {
        "colab": {
          "base_uri": "https://localhost:8080/"
        },
        "id": "LjZYhllMy1EH",
        "outputId": "16e65cb8-8007-4d8a-f96c-e608bb5ebec5"
      },
      "execution_count": 19,
      "outputs": [
        {
          "output_type": "execute_result",
          "data": {
            "text/plain": [
              "[30, 35, 40]"
            ]
          },
          "metadata": {},
          "execution_count": 19
        }
      ]
    },
    {
      "cell_type": "code",
      "source": [
        "z[4:]"
      ],
      "metadata": {
        "colab": {
          "base_uri": "https://localhost:8080/"
        },
        "id": "Tqp3au2CzUJg",
        "outputId": "db3b8929-934c-49a5-e4ce-8123bd1a1508"
      },
      "execution_count": 20,
      "outputs": [
        {
          "output_type": "execute_result",
          "data": {
            "text/plain": [
              "[30, 35, 40]"
            ]
          },
          "metadata": {},
          "execution_count": 20
        }
      ]
    },
    {
      "cell_type": "code",
      "source": [
        "x=[1,2,3,4,5,6,7,8,9,10]"
      ],
      "metadata": {
        "id": "RUXGh14o0R_G"
      },
      "execution_count": 21,
      "outputs": []
    },
    {
      "cell_type": "code",
      "source": [
        "x[0]=25000"
      ],
      "metadata": {
        "id": "GX7kLCPZ0h7m"
      },
      "execution_count": 23,
      "outputs": []
    },
    {
      "cell_type": "code",
      "source": [
        "x"
      ],
      "metadata": {
        "colab": {
          "base_uri": "https://localhost:8080/"
        },
        "id": "PirvHOGT1Ded",
        "outputId": "e937d260-9a51-4f97-c482-831b729cb938"
      },
      "execution_count": 24,
      "outputs": [
        {
          "output_type": "execute_result",
          "data": {
            "text/plain": [
              "[25000, 2, 3, 4, 5, 6, 7, 8, 9, 10]"
            ]
          },
          "metadata": {},
          "execution_count": 24
        }
      ]
    },
    {
      "cell_type": "code",
      "source": [
        "x=[1,\"tia holmes\",\"26-03-2003\",19,\"las vegas\"]"
      ],
      "metadata": {
        "id": "kNUsWx-e2JjJ"
      },
      "execution_count": 31,
      "outputs": []
    },
    {
      "cell_type": "code",
      "source": [
        "x[-1]=\"RAJAGIRI\""
      ],
      "metadata": {
        "id": "YenpXzLw2WNR"
      },
      "execution_count": 32,
      "outputs": []
    },
    {
      "cell_type": "code",
      "source": [
        "print(x)"
      ],
      "metadata": {
        "colab": {
          "base_uri": "https://localhost:8080/"
        },
        "id": "mQl5Slaw2eAW",
        "outputId": "e440da3c-7935-4078-d984-afd2d19d35e4"
      },
      "execution_count": 33,
      "outputs": [
        {
          "output_type": "stream",
          "name": "stdout",
          "text": [
            "[1, 'tia holmes', '26-03-2003', 19, 'RAJAGIRI']\n"
          ]
        }
      ]
    },
    {
      "cell_type": "code",
      "source": [
        "x=[3,6,9,12]"
      ],
      "metadata": {
        "id": "IdKOVun82f-W"
      },
      "execution_count": 36,
      "outputs": []
    },
    {
      "cell_type": "code",
      "source": [
        "x.append(69)"
      ],
      "metadata": {
        "id": "5Fi3Z9db3wEU"
      },
      "execution_count": 42,
      "outputs": []
    },
    {
      "cell_type": "code",
      "source": [
        "x"
      ],
      "metadata": {
        "colab": {
          "base_uri": "https://localhost:8080/"
        },
        "id": "nIF4KDrL3-wM",
        "outputId": "d0ff2adc-5d80-4552-bc08-79c9641d09bb"
      },
      "execution_count": 43,
      "outputs": [
        {
          "output_type": "execute_result",
          "data": {
            "text/plain": [
              "[3, 6, 9, 12, 10, 69, 69, 69]"
            ]
          },
          "metadata": {},
          "execution_count": 43
        }
      ]
    },
    {
      "cell_type": "code",
      "source": [
        "for n in range(4):\n",
        "  n=input(\"ENTER THE NAME:\")\n",
        "  x.append(n)\n",
        "  print(x)"
      ],
      "metadata": {
        "colab": {
          "base_uri": "https://localhost:8080/"
        },
        "id": "6BXWL2kO4Fl2",
        "outputId": "5e0774d5-dff5-4dfd-a16a-f0d016ff2dc1"
      },
      "execution_count": 46,
      "outputs": [
        {
          "output_type": "stream",
          "name": "stdout",
          "text": [
            "ENTER THE NAME:TIA HOLMES\n",
            "[3, 6, 9, 12, 10, 69, 69, 69, 'TIA HOLMES']\n",
            "ENTER THE NAME:NIDHI\n",
            "[3, 6, 9, 12, 10, 69, 69, 69, 'TIA HOLMES', 'NIDHI']\n",
            "ENTER THE NAME:SHENSHAH\n",
            "[3, 6, 9, 12, 10, 69, 69, 69, 'TIA HOLMES', 'NIDHI', 'SHENSHAH']\n",
            "ENTER THE NAME:ALSABITH\n",
            "[3, 6, 9, 12, 10, 69, 69, 69, 'TIA HOLMES', 'NIDHI', 'SHENSHAH', 'ALSABITH']\n"
          ]
        }
      ]
    },
    {
      "cell_type": "code",
      "source": [
        "x=[28,32,43,47]\n",
        "y=x.copy()\n",
        "print(y)"
      ],
      "metadata": {
        "colab": {
          "base_uri": "https://localhost:8080/"
        },
        "id": "qGGW9R5X5gjN",
        "outputId": "a2429fa5-0f83-4d82-e625-515bdf67b47d"
      },
      "execution_count": 47,
      "outputs": [
        {
          "output_type": "stream",
          "name": "stdout",
          "text": [
            "[28, 32, 43, 47]\n"
          ]
        }
      ]
    },
    {
      "cell_type": "code",
      "source": [
        "x=[7,7,0,3,7,2]\n",
        "y=[5,6,7,8,9,4]\n",
        "x.extend(y)"
      ],
      "metadata": {
        "id": "Ahs1LrRy9dBS"
      },
      "execution_count": 50,
      "outputs": []
    },
    {
      "cell_type": "code",
      "source": [
        "print(x)"
      ],
      "metadata": {
        "colab": {
          "base_uri": "https://localhost:8080/"
        },
        "id": "1Ln9I5tp-8rx",
        "outputId": "ee6efb80-a546-4f11-acbb-523b5726d81f"
      },
      "execution_count": 51,
      "outputs": [
        {
          "output_type": "stream",
          "name": "stdout",
          "text": [
            "[7, 7, 0, 3, 7, 2, 5, 6, 7, 8, 9, 4]\n"
          ]
        }
      ]
    },
    {
      "cell_type": "code",
      "source": [
        "x.count(7)"
      ],
      "metadata": {
        "colab": {
          "base_uri": "https://localhost:8080/"
        },
        "id": "MFdKvJWn--vg",
        "outputId": "43ef2178-2519-4e0d-c988-56f6bba0b997"
      },
      "execution_count": 52,
      "outputs": [
        {
          "output_type": "execute_result",
          "data": {
            "text/plain": [
              "4"
            ]
          },
          "metadata": {},
          "execution_count": 52
        }
      ]
    },
    {
      "cell_type": "code",
      "source": [
        "x[1:4]=[7,5,6]"
      ],
      "metadata": {
        "id": "7U1UtKJo_W3Q"
      },
      "execution_count": 53,
      "outputs": []
    },
    {
      "cell_type": "code",
      "source": [
        "print(x)"
      ],
      "metadata": {
        "colab": {
          "base_uri": "https://localhost:8080/"
        },
        "id": "ZbklDLJlAWg4",
        "outputId": "a3fdb164-5b99-4421-9834-40a81b51b8bb"
      },
      "execution_count": 54,
      "outputs": [
        {
          "output_type": "stream",
          "name": "stdout",
          "text": [
            "[7, 7, 5, 6, 7, 2, 5, 6, 7, 8, 9, 4]\n"
          ]
        }
      ]
    },
    {
      "cell_type": "code",
      "source": [
        "x.insert(2,8)\n",
        "print(x)"
      ],
      "metadata": {
        "colab": {
          "base_uri": "https://localhost:8080/"
        },
        "id": "Mtzybdk-AYIm",
        "outputId": "feaa0294-a15e-4a65-a737-74c81cfb96ec"
      },
      "execution_count": 55,
      "outputs": [
        {
          "output_type": "stream",
          "name": "stdout",
          "text": [
            "[7, 7, 8, 5, 6, 7, 2, 5, 6, 7, 8, 9, 4]\n"
          ]
        }
      ]
    },
    {
      "cell_type": "code",
      "source": [
        "x.remove(7)"
      ],
      "metadata": {
        "id": "EmBUOSJfBjur"
      },
      "execution_count": 56,
      "outputs": []
    },
    {
      "cell_type": "code",
      "source": [
        "print(x)"
      ],
      "metadata": {
        "colab": {
          "base_uri": "https://localhost:8080/"
        },
        "id": "YoxlaEStCU8N",
        "outputId": "181dd0b4-e6b9-4e98-b722-2df2093df4d2"
      },
      "execution_count": 57,
      "outputs": [
        {
          "output_type": "stream",
          "name": "stdout",
          "text": [
            "[7, 8, 5, 6, 7, 2, 5, 6, 7, 8, 9, 4]\n"
          ]
        }
      ]
    },
    {
      "cell_type": "code",
      "source": [
        "x=[\"tia\",\"nidhi\",\"paaru\",\"enitta\",\"angel\",\"ridha\"]"
      ],
      "metadata": {
        "id": "QyQpeQ3zCWyI"
      },
      "execution_count": 58,
      "outputs": []
    },
    {
      "cell_type": "code",
      "source": [
        "del x[-1]"
      ],
      "metadata": {
        "id": "063wum_ZDIOv"
      },
      "execution_count": 65,
      "outputs": []
    },
    {
      "cell_type": "code",
      "source": [
        "print(x)"
      ],
      "metadata": {
        "colab": {
          "base_uri": "https://localhost:8080/"
        },
        "id": "3DjR-Qt-DP_w",
        "outputId": "15cd8b56-9672-4d0d-8649-256444351850"
      },
      "execution_count": 66,
      "outputs": [
        {
          "output_type": "stream",
          "name": "stdout",
          "text": [
            "['nidhi', 'paaru', 'enitta', 'angel']\n"
          ]
        }
      ]
    },
    {
      "cell_type": "code",
      "source": [
        "del x[0:2]"
      ],
      "metadata": {
        "id": "KxhtEIQjDnwZ"
      },
      "execution_count": 69,
      "outputs": []
    },
    {
      "cell_type": "code",
      "source": [
        "print(x)"
      ],
      "metadata": {
        "colab": {
          "base_uri": "https://localhost:8080/"
        },
        "id": "0J1gah-XDrnP",
        "outputId": "d54208b3-d01f-4540-9cd1-e311c9ecaa9e"
      },
      "execution_count": 70,
      "outputs": [
        {
          "output_type": "stream",
          "name": "stdout",
          "text": [
            "['enitta', 'angel']\n"
          ]
        }
      ]
    },
    {
      "cell_type": "code",
      "source": [],
      "metadata": {
        "id": "ixkcThLHDyaL"
      },
      "execution_count": null,
      "outputs": []
    }
  ]
}